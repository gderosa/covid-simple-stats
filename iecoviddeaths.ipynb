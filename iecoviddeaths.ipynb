{
 "cells": [
  {
   "cell_type": "code",
   "execution_count": null,
   "metadata": {},
   "outputs": [],
   "source": [
    "import requests\n",
    "import certifi\n",
    "import numpy as np\n",
    "import pandas as pd\n",
    "import matplotlib.pyplot as plt"
   ]
  },
  {
   "cell_type": "markdown",
   "metadata": {},
   "source": [
    "Data ref. https://covid-19.geohive.ie/datasets/d8eb52d56273413b84b0187a4e9117be_0/data"
   ]
  },
  {
   "cell_type": "code",
   "execution_count": null,
   "metadata": {},
   "outputs": [],
   "source": [
    "csvio = requests.get('https://opendata.arcgis.com/datasets/d8eb52d56273413b84b0187a4e9117be_0.csv', stream=True).raw\n",
    "csvio.decode_content = True\n",
    "df = pd.read_csv(csvio)"
   ]
  },
  {
   "cell_type": "code",
   "execution_count": null,
   "metadata": {},
   "outputs": [],
   "source": [
    "df['Date'] = pd.to_datetime(df['Date'])\n",
    "week_of = df['Date'].iloc[::7]"
   ]
  },
  {
   "cell_type": "code",
   "execution_count": null,
   "metadata": {},
   "outputs": [],
   "source": [
    "df['deaths_ma'] = df['ConfirmedCovidDeaths'].rolling(7, min_periods=1).mean()\n",
    "deaths_weekly = df['deaths_ma'].iloc[::7]\n",
    "#df['deaths_ema'] = df['ConfirmedCovidDeaths'].ewm(halflife=2).mean().rolling(7, min_periods=1).mean()"
   ]
  },
  {
   "cell_type": "code",
   "execution_count": null,
   "metadata": {},
   "outputs": [],
   "source": [
    "plt.figure(figsize=[32,16])\n",
    "plt.rc('xtick',labelsize=16)\n",
    "plt.rc('ytick',labelsize=18)\n",
    "plt.yscale('symlog', linthresh=1)\n",
    "ticks  = (0, 1, 2, 3, 4, 5, 6, 7, 8, 9, 10, 20, 30, 40, 50, 60, 70, 80, 90, 100)\n",
    "labels = (0, 1, 2,'', 4,'', 6,'', 8,'', 10, 20, '', 40, '', 60, '', 80, '', 100)\n",
    "plt.yticks(ticks=ticks, labels=labels)\n",
    "plt.grid(True, linewidth=0.2)\n",
    "\n",
    "plt.plot(df['Date'], df['ConfirmedCovidDeaths'], '-s', color=\"#bb6666\", linewidth=1, markersize=12)\n",
    "plt.plot(df['Date'], df['deaths_ma'], '-', color=\"#bb44bb\",  linewidth=4)\n",
    "plt.plot(week_of, deaths_weekly, '-', color=\"#444444\",  linewidth=8)"
   ]
  }
 ],
 "metadata": {
  "kernelspec": {
   "display_name": "Python 3",
   "language": "python",
   "name": "python3"
  },
  "language_info": {
   "codemirror_mode": {
    "name": "ipython",
    "version": 3
   },
   "file_extension": ".py",
   "mimetype": "text/x-python",
   "name": "python",
   "nbconvert_exporter": "python",
   "pygments_lexer": "ipython3",
   "version": "3.8.1"
  }
 },
 "nbformat": 4,
 "nbformat_minor": 4
}
